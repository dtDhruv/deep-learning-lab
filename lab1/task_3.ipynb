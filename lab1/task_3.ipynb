{
 "cells": [
  {
   "cell_type": "markdown",
   "id": "4db24e30-a63d-4d98-927b-f8e0dbfd5aa0",
   "metadata": {},
   "source": [
    "### Task 3: Perform derivative and higher order derivative for function f(x) = x^3 using gradient tape of Tensorflow"
   ]
  },
  {
   "cell_type": "markdown",
   "id": "f76bc700-0412-4e0e-acea-860b17d48da8",
   "metadata": {},
   "source": [
    "<table style=\"border: 1px solid black; border-collapse: collapse;\" cellpadding=\"5\">\n",
    "  <tr>\n",
    "    <td style=\"border: 1px solid black;\"><strong>Roll No:</strong> A018</td>\n",
    "    <td style=\"border: 1px solid black;\"><strong>Name:</strong> Dhruv Thanawala</td>\n",
    "  </tr>\n",
    "  <tr>\n",
    "    <td style=\"border: 1px solid black;\"><strong>Class:</strong> BTech IT</td>\n",
    "    <td style=\"border: 1px solid black;\"><strong>Batch:</strong> A1</td>\n",
    "  </tr>\n",
    "  <tr>\n",
    "    <td style=\"border: 1px solid black;\"><strong>Date of Experiment:</strong> 15<sup>th</sup> July, 2025</td>\n",
    "    <td style=\"border: 1px solid black;\"><strong>Date of Submission:</strong> 15<sup>th</sup> July, 2025</td>\n",
    "  </tr>\n",
    "</table>\n"
   ]
  },
  {
   "cell_type": "code",
   "execution_count": 2,
   "id": "6f665c32-bccc-40e8-bdc2-05c0bec3bc60",
   "metadata": {},
   "outputs": [],
   "source": [
    "import tensorflow as tf\n",
    "import numpy as np"
   ]
  },
  {
   "cell_type": "code",
   "execution_count": 3,
   "id": "2e3265bd-5555-4a7a-97ae-bcd1eb3fba4c",
   "metadata": {},
   "outputs": [],
   "source": [
    "# Define the function f(x) = x³\n",
    "def f(x):\n",
    "    return x**3"
   ]
  },
  {
   "cell_type": "code",
   "execution_count": 6,
   "id": "5c655728-5916-4281-9b99-1097977dfa44",
   "metadata": {},
   "outputs": [
    {
     "name": "stdout",
     "output_type": "stream",
     "text": [
      "1. FIRST DERIVATIVE\n",
      "--------------------\n",
      "f(2.0) = 8.0\n",
      "f'(2.0) = 12.0\n",
      "Expected f'(2.0) = 3 × 2.0² = 12.0\n"
     ]
    }
   ],
   "source": [
    "# 1. FIRST DERIVATIVE: f'(x) = 3x²\n",
    "print(\"1. FIRST DERIVATIVE\")\n",
    "print(\"-\" * 20)\n",
    "\n",
    "with tf.GradientTape() as tape:\n",
    "    y = f(x)\n",
    "    \n",
    "first_derivative = tape.gradient(y, x)\n",
    "\n",
    "print(f\"f({x_value}) = {y.numpy()}\")\n",
    "print(f\"f'({x_value}) = {first_derivative.numpy()}\")\n",
    "print(f\"Expected f'({x_value}) = 3 × {x_value}² = {3 * x_value**2}\")\n"
   ]
  },
  {
   "cell_type": "code",
   "execution_count": 7,
   "id": "fc4e91cd-6160-4edf-b29d-73d69084802a",
   "metadata": {},
   "outputs": [
    {
     "name": "stdout",
     "output_type": "stream",
     "text": [
      "\n",
      "2. SECOND DERIVATIVE\n",
      "--------------------\n",
      "f''(2.0) = 12.0\n",
      "Expected f''(2.0) = 6 × 2.0 = 12.0\n"
     ]
    }
   ],
   "source": [
    "# 2. SECOND DERIVATIVE: f''(x) = 6x\n",
    "print(\"\\n2. SECOND DERIVATIVE\")\n",
    "print(\"-\" * 20)\n",
    "\n",
    "with tf.GradientTape() as tape2:\n",
    "    with tf.GradientTape() as tape1:\n",
    "        y = f(x)\n",
    "    first_deriv = tape1.gradient(y, x)\n",
    "second_derivative = tape2.gradient(first_deriv, x)\n",
    "\n",
    "print(f\"f''({x_value}) = {second_derivative.numpy()}\")\n",
    "print(f\"Expected f''({x_value}) = 6 × {x_value} = {6 * x_value}\")"
   ]
  },
  {
   "cell_type": "code",
   "execution_count": 8,
   "id": "0f84ff0f-7117-43ee-a57c-c6593de119a7",
   "metadata": {},
   "outputs": [
    {
     "name": "stdout",
     "output_type": "stream",
     "text": [
      "\n",
      "3. THIRD DERIVATIVE\n",
      "--------------------\n",
      "f'''(2.0) = 6.0\n",
      "Expected f'''(2.0) = 6\n"
     ]
    }
   ],
   "source": [
    "# 3. THIRD DERIVATIVE: f'''(x) = 6\n",
    "print(\"\\n3. THIRD DERIVATIVE\")\n",
    "print(\"-\" * 20)\n",
    "\n",
    "with tf.GradientTape() as tape3:\n",
    "    with tf.GradientTape() as tape2:\n",
    "        with tf.GradientTape() as tape1:\n",
    "            y = f(x)\n",
    "        first_deriv = tape1.gradient(y, x)\n",
    "    second_deriv = tape2.gradient(first_deriv, x)\n",
    "third_derivative = tape3.gradient(second_deriv, x)\n",
    "\n",
    "print(f\"f'''({x_value}) = {third_derivative.numpy()}\")\n",
    "print(f\"Expected f'''({x_value}) = 6\")"
   ]
  },
  {
   "cell_type": "code",
   "execution_count": null,
   "id": "58a07ab3-4594-47f2-9b87-2aa33c63af69",
   "metadata": {},
   "outputs": [],
   "source": []
  }
 ],
 "metadata": {
  "kernelspec": {
   "display_name": "Python 3 (ipykernel)",
   "language": "python",
   "name": "python3"
  },
  "language_info": {
   "codemirror_mode": {
    "name": "ipython",
    "version": 3
   },
   "file_extension": ".py",
   "mimetype": "text/x-python",
   "name": "python",
   "nbconvert_exporter": "python",
   "pygments_lexer": "ipython3",
   "version": "3.12.3"
  }
 },
 "nbformat": 4,
 "nbformat_minor": 5
}
