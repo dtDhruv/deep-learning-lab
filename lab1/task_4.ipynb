{
 "cells": [
  {
   "cell_type": "markdown",
   "id": "cf5743f4-435c-4996-b900-7c017f47599b",
   "metadata": {},
   "source": [
    "### Task 4: Compute WX+b using Tensorflow where W, X,  and b are drawn from a random normal distribution. W is of shape (4, 3), X is (3,1) and b is (4,1) "
   ]
  },
  {
   "cell_type": "markdown",
   "id": "1dbd8a11-a5ee-4d39-b0eb-d54ff2194386",
   "metadata": {},
   "source": [
    "<table style=\"border: 1px solid black; border-collapse: collapse;\" cellpadding=\"5\">\n",
    "  <tr>\n",
    "    <td style=\"border: 1px solid black;\"><strong>Roll No:</strong> A018</td>\n",
    "    <td style=\"border: 1px solid black;\"><strong>Name:</strong> Dhruv Thanawala</td>\n",
    "  </tr>\n",
    "  <tr>\n",
    "    <td style=\"border: 1px solid black;\"><strong>Class:</strong> BTech IT</td>\n",
    "    <td style=\"border: 1px solid black;\"><strong>Batch:</strong> A1</td>\n",
    "  </tr>\n",
    "  <tr>\n",
    "    <td style=\"border: 1px solid black;\"><strong>Date of Experiment:</strong> 15<sup>th</sup> July, 2025</td>\n",
    "    <td style=\"border: 1px solid black;\"><strong>Date of Submission:</strong> 15<sup>th</sup> July, 2025</td>\n",
    "  </tr>\n",
    "</table>\n"
   ]
  },
  {
   "cell_type": "code",
   "execution_count": 2,
   "id": "5341e874-d8b8-4264-942f-7b4a72e21858",
   "metadata": {},
   "outputs": [],
   "source": [
    "import tensorflow as tf\n",
    "import numpy as np"
   ]
  },
  {
   "cell_type": "code",
   "execution_count": 3,
   "id": "158fb9f9-477d-42ec-9d4d-f85382e95c79",
   "metadata": {},
   "outputs": [
    {
     "name": "stdout",
     "output_type": "stream",
     "text": [
      "Computing WX + b using TensorFlow\n",
      "========================================\n"
     ]
    }
   ],
   "source": [
    "print(\"Computing WX + b using TensorFlow\")\n",
    "print(\"=\" * 40)"
   ]
  },
  {
   "cell_type": "code",
   "execution_count": 5,
   "id": "0ea3fc6d-c129-4600-b28d-b232f9477754",
   "metadata": {},
   "outputs": [
    {
     "name": "stdout",
     "output_type": "stream",
     "text": [
      "1. CREATING RANDOM MATRICES\n",
      "------------------------------\n",
      "W (Weight matrix) - Shape: (4, 3)\n",
      "W =\n",
      "[[-0.37168312 -1.198981   -0.07363974]\n",
      " [ 0.44938195 -0.35607064  0.397546  ]\n",
      " [ 0.29871848  1.1318536  -0.67996055]\n",
      " [ 1.0006566  -1.8722564  -0.7950789 ]]\n"
     ]
    }
   ],
   "source": [
    "# Generate random matrices from normal distribution\n",
    "print(\"1. CREATING RANDOM MATRICES\")\n",
    "print(\"-\" * 30)\n",
    "\n",
    "# W: Weight matrix (4, 3)\n",
    "W = tf.random.normal(shape=(4, 3), mean=0.0, stddev=1.0, dtype=tf.float32)\n",
    "print(\"W (Weight matrix) - Shape:\", W.shape)\n",
    "print(\"W =\")\n",
    "print(W.numpy())"
   ]
  },
  {
   "cell_type": "code",
   "execution_count": 7,
   "id": "49470602-0ad3-428e-9da0-a304ede0c93e",
   "metadata": {},
   "outputs": [
    {
     "name": "stdout",
     "output_type": "stream",
     "text": [
      "\n",
      "X (Input vector) - Shape: (3, 1)\n",
      "X =\n",
      "[[0.6215037 ]\n",
      " [0.53950596]\n",
      " [1.3355091 ]]\n"
     ]
    }
   ],
   "source": [
    "# X: Input vector (3, 1)\n",
    "X = tf.random.normal(shape=(3, 1), mean=0.0, stddev=1.0, dtype=tf.float32)\n",
    "print(\"\\nX (Input vector) - Shape:\", X.shape)\n",
    "print(\"X =\")\n",
    "print(X.numpy())"
   ]
  },
  {
   "cell_type": "code",
   "execution_count": 8,
   "id": "3993f3b7-250e-423c-a1fe-e27a37dfe477",
   "metadata": {},
   "outputs": [
    {
     "name": "stdout",
     "output_type": "stream",
     "text": [
      "\n",
      "b (Bias vector) - Shape: (4, 1)\n",
      "b =\n",
      "[[-1.2311051 ]\n",
      " [ 0.09873265]\n",
      " [-1.398334  ]\n",
      " [-1.4448786 ]]\n"
     ]
    }
   ],
   "source": [
    "# b: Bias vector (4, 1)\n",
    "b = tf.random.normal(shape=(4, 1), mean=0.0, stddev=1.0, dtype=tf.float32)\n",
    "print(\"\\nb (Bias vector) - Shape:\", b.shape)\n",
    "print(\"b =\")\n",
    "print(b.numpy())"
   ]
  },
  {
   "cell_type": "code",
   "execution_count": 10,
   "id": "2b1077e5-fb8d-4a97-bfc3-3937b0fbd5b7",
   "metadata": {},
   "outputs": [
    {
     "name": "stdout",
     "output_type": "stream",
     "text": [
      "\n",
      "2. MATRIX MULTIPLICATION (WX)\n",
      "-----------------------------------\n",
      "WX - Shape: (4, 1)\n",
      "WX =\n",
      "[[-0.9762064 ]\n",
      " [ 0.6181166 ]\n",
      " [-0.11179703]\n",
      " [-1.4500167 ]]\n"
     ]
    }
   ],
   "source": [
    "# 2. MATRIX MULTIPLICATION: WX\n",
    "print(\"\\n2. MATRIX MULTIPLICATION (WX)\")\n",
    "print(\"-\" * 35)\n",
    "\n",
    "WX = tf.matmul(W, X)\n",
    "print(\"WX - Shape:\", WX.shape)\n",
    "print(\"WX =\")\n",
    "print(WX.numpy())"
   ]
  },
  {
   "cell_type": "code",
   "execution_count": 12,
   "id": "74320744-d1eb-4492-9124-b2c03cd6ed40",
   "metadata": {},
   "outputs": [
    {
     "name": "stdout",
     "output_type": "stream",
     "text": [
      "\n",
      "3. FINAL RESULT (WX + b)\n",
      "-------------------------\n",
      "WX + b - Shape: (4, 1)\n",
      "WX + b =\n",
      "[[-2.2073116 ]\n",
      " [ 0.71684927]\n",
      " [-1.5101311 ]\n",
      " [-2.8948953 ]]\n"
     ]
    }
   ],
   "source": [
    "# 3. ADDITION: WX + b\n",
    "print(\"\\n3. FINAL RESULT (WX + b)\")\n",
    "print(\"-\" * 25)\n",
    "\n",
    "result = WX + b\n",
    "print(\"WX + b - Shape:\", result.shape)\n",
    "print(\"WX + b =\")\n",
    "print(result.numpy())"
   ]
  },
  {
   "cell_type": "code",
   "execution_count": null,
   "id": "fe1ba998-f75c-42ea-b872-e16488d65677",
   "metadata": {},
   "outputs": [],
   "source": []
  }
 ],
 "metadata": {
  "kernelspec": {
   "display_name": "Python 3 (ipykernel)",
   "language": "python",
   "name": "python3"
  },
  "language_info": {
   "codemirror_mode": {
    "name": "ipython",
    "version": 3
   },
   "file_extension": ".py",
   "mimetype": "text/x-python",
   "name": "python",
   "nbconvert_exporter": "python",
   "pygments_lexer": "ipython3",
   "version": "3.12.3"
  }
 },
 "nbformat": 4,
 "nbformat_minor": 5
}
