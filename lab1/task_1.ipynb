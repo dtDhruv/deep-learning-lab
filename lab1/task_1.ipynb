{
 "cells": [
  {
   "cell_type": "markdown",
   "id": "84bc1662-2eef-4376-b378-b5ff272249a9",
   "metadata": {},
   "source": [
    "### Task 1: Perform basic operations using Tensorflow (Defining constants, variables, concatenation, add, multiply, reduce mean, reduce sum)"
   ]
  },
  {
   "cell_type": "markdown",
   "id": "8f79e277-cae2-4f96-b9c0-eb9fb2346528",
   "metadata": {},
   "source": [
    "<table style=\"border: 1px solid black; border-collapse: collapse;\" cellpadding=\"5\">\n",
    "  <tr>\n",
    "    <td style=\"border: 1px solid black;\"><strong>Roll No:</strong> A018</td>\n",
    "    <td style=\"border: 1px solid black;\"><strong>Name:</strong> Dhruv Thanawala</td>\n",
    "  </tr>\n",
    "  <tr>\n",
    "    <td style=\"border: 1px solid black;\"><strong>Class:</strong> BTech IT</td>\n",
    "    <td style=\"border: 1px solid black;\"><strong>Batch:</strong> A1</td>\n",
    "  </tr>\n",
    "  <tr>\n",
    "    <td style=\"border: 1px solid black;\"><strong>Date of Experiment:</strong> 15<sup>th</sup> July, 2025</td>\n",
    "    <td style=\"border: 1px solid black;\"><strong>Date of Submission:</strong> 15<sup>th</sup> July, 2025</td>\n",
    "  </tr>\n",
    "</table>\n"
   ]
  },
  {
   "cell_type": "code",
   "execution_count": 3,
   "id": "4247e07d-a162-498b-8f95-b1444a21ab25",
   "metadata": {},
   "outputs": [],
   "source": [
    "import tensorflow as tf\n",
    "import numpy as np"
   ]
  },
  {
   "cell_type": "markdown",
   "id": "84bb6aac-eb14-40e0-88b6-e59f2b17853a",
   "metadata": {},
   "source": [
    "## 1. Constants"
   ]
  },
  {
   "cell_type": "code",
   "execution_count": 6,
   "id": "70df2d1f-4082-401f-b90a-2fe99098223e",
   "metadata": {},
   "outputs": [],
   "source": [
    "scalar_constant = tf.constant(5.0)\n",
    "vector_constant = tf.constant([1, 2, 3, 4])\n",
    "matrix_constant = tf.constant([[1, 2], [3, 4]])"
   ]
  },
  {
   "cell_type": "code",
   "execution_count": 10,
   "id": "fa5621f5-97b4-428d-a53c-53a81480d680",
   "metadata": {},
   "outputs": [
    {
     "name": "stdout",
     "output_type": "stream",
     "text": [
      "Scalar constant: 5.0\n",
      "Vector constant: [1 2 3 4]\n",
      "Matrix constant: [[1 2]\n",
      " [3 4]]\n"
     ]
    }
   ],
   "source": [
    "print(\"Scalar constant:\", scalar_constant.numpy())\n",
    "print(\"Vector constant:\", vector_constant.numpy())\n",
    "print(\"Matrix constant:\", matrix_constant.numpy())"
   ]
  },
  {
   "cell_type": "markdown",
   "id": "c5951021-167d-443d-9628-5b01f4ae6497",
   "metadata": {},
   "source": [
    "## 2. Variables"
   ]
  },
  {
   "cell_type": "code",
   "execution_count": 12,
   "id": "c452d82a-b998-4545-8bf7-62a854de3c89",
   "metadata": {},
   "outputs": [],
   "source": [
    "scalar_var = tf.Variable(10.0)\n",
    "vector_var = tf.Variable([1, 2, 3, 4])\n",
    "matrix_var = tf.Variable([[1, 2], [3, 4]])"
   ]
  },
  {
   "cell_type": "code",
   "execution_count": 13,
   "id": "fd3c81c6-b309-4c29-83cd-b7b4ca1adc6e",
   "metadata": {},
   "outputs": [
    {
     "name": "stdout",
     "output_type": "stream",
     "text": [
      "Scalar variable: 10.0\n",
      "Vector variable: [1 2 3 4]\n",
      "Matrix variable: [[1 2]\n",
      " [3 4]]\n"
     ]
    }
   ],
   "source": [
    "print(\"Scalar variable:\", scalar_var.numpy())\n",
    "print(\"Vector variable:\", vector_var.numpy())\n",
    "print(\"Matrix variable:\", matrix_var.numpy())"
   ]
  },
  {
   "cell_type": "markdown",
   "id": "50de81df-13d8-4a9a-8349-8797da0a5e5a",
   "metadata": {},
   "source": [
    "## 3. Operations"
   ]
  },
  {
   "cell_type": "code",
   "execution_count": 14,
   "id": "f8743630-5924-4626-b717-262e709ead37",
   "metadata": {},
   "outputs": [],
   "source": [
    "a = tf.constant([1, 2, 3])\n",
    "b = tf.constant([4, 5, 6])\n",
    "c = tf.constant(10)"
   ]
  },
  {
   "cell_type": "code",
   "execution_count": 15,
   "id": "15385c65-b498-4332-a628-ca5d1875d0c3",
   "metadata": {},
   "outputs": [
    {
     "name": "stdout",
     "output_type": "stream",
     "text": [
      "Vector addition: [1 2 3] + [4 5 6] = [5 7 9]\n"
     ]
    }
   ],
   "source": [
    "# Vector addition\n",
    "add_vectors = tf.add(a, b)\n",
    "print(f\"Vector addition: {a} + {b} = {add_vectors}\")"
   ]
  },
  {
   "cell_type": "code",
   "execution_count": 16,
   "id": "04ee3836-d963-4f92-948f-17918aa99d24",
   "metadata": {},
   "outputs": [
    {
     "name": "stdout",
     "output_type": "stream",
     "text": [
      "Scalar addition: 10 + 5 = 15\n"
     ]
    }
   ],
   "source": [
    "# Scalar addition\n",
    "add_scalar = tf.add(c, 5)\n",
    "print(f\"Scalar addition: {c} + 5 = {add_scalar}\")"
   ]
  },
  {
   "cell_type": "code",
   "execution_count": 20,
   "id": "210fefed-32f6-4027-8087-21212083b0a4",
   "metadata": {},
   "outputs": [
    {
     "name": "stdout",
     "output_type": "stream",
     "text": [
      "Broadcasting addition: [1 2 3] + 10 = [11 12 13]\n"
     ]
    }
   ],
   "source": [
    "# Broadcasting addition\n",
    "broadcast_add = tf.add(a, c)\n",
    "print(f\"Broadcasting addition: {a} + {c} = {broadcast_add}\")"
   ]
  },
  {
   "cell_type": "code",
   "execution_count": 21,
   "id": "e1148149-57fe-4a90-8490-cbf3da96e9cd",
   "metadata": {},
   "outputs": [],
   "source": [
    "mat1 = tf.constant([[1, 2], [3, 4]])\n",
    "mat2 = tf.constant([[5, 6], [7, 8]])"
   ]
  },
  {
   "cell_type": "code",
   "execution_count": 22,
   "id": "17e8cb39-6eec-4e67-a22f-83dfbcadd422",
   "metadata": {},
   "outputs": [
    {
     "name": "stdout",
     "output_type": "stream",
     "text": [
      "Matrix addition:\n",
      "[[1 2]\n",
      " [3 4]]\n",
      "+\n",
      "[[5 6]\n",
      " [7 8]]\n",
      "=\n",
      "[[ 6  8]\n",
      " [10 12]]\n"
     ]
    }
   ],
   "source": [
    "# Matrix Addition\n",
    "add_matrices = tf.add(mat1, mat2)\n",
    "print(f\"Matrix addition:\\n{mat1}\\n+\\n{mat2}\\n=\\n{add_matrices}\")"
   ]
  },
  {
   "cell_type": "code",
   "execution_count": 23,
   "id": "22f17513-840d-4340-a16a-c09bf514752a",
   "metadata": {},
   "outputs": [
    {
     "name": "stdout",
     "output_type": "stream",
     "text": [
      "Element-wise multiplication: [1 2 3] * [4 5 6] = [ 4 10 18]\n"
     ]
    }
   ],
   "source": [
    "# Element-wise multiplication\n",
    "mult_vectors = tf.multiply(a, b)\n",
    "print(f\"Element-wise multiplication: {a} * {b} = {mult_vectors}\")"
   ]
  },
  {
   "cell_type": "code",
   "execution_count": 24,
   "id": "d74fd9e8-94bc-42f9-9b21-23e91c208e2d",
   "metadata": {},
   "outputs": [
    {
     "name": "stdout",
     "output_type": "stream",
     "text": [
      "Scalar multiplication: [1 2 3] * 10 = [10 20 30]\n"
     ]
    }
   ],
   "source": [
    "# Scalar multiplication\n",
    "mult_scalar = tf.multiply(a, c)\n",
    "print(f\"Scalar multiplication: {a} * {c} = {mult_scalar}\")"
   ]
  },
  {
   "cell_type": "code",
   "execution_count": 26,
   "id": "6f5f30cc-94c3-4815-ba1d-30efbfc32d22",
   "metadata": {},
   "outputs": [
    {
     "name": "stdout",
     "output_type": "stream",
     "text": [
      "Matrix multiplication:\n",
      "[[1 2]\n",
      " [3 4]]\n",
      "*\n",
      "[[5 6]\n",
      " [7 8]]\n",
      "=\n",
      "[[19 22]\n",
      " [43 50]]\n"
     ]
    }
   ],
   "source": [
    "# Matrix multiplication\n",
    "mat_mult = tf.matmul(mat1, mat2)\n",
    "print(f\"Matrix multiplication:\\n{mat1}\\n*\\n{mat2}\\n=\\n{mat_mult}\")"
   ]
  },
  {
   "cell_type": "code",
   "execution_count": 27,
   "id": "3fe22e99-7a37-4fb7-9005-765aab3573c1",
   "metadata": {},
   "outputs": [],
   "source": [
    "vec1 = tf.constant([1, 2, 3])\n",
    "vec2 = tf.constant([4, 5, 6])"
   ]
  },
  {
   "cell_type": "code",
   "execution_count": 30,
   "id": "d2ab3285-d982-44d8-81d6-1426487462fe",
   "metadata": {},
   "outputs": [
    {
     "name": "stdout",
     "output_type": "stream",
     "text": [
      "Vector concatenation: [1 2 3] + [4 5 6] = [1 2 3 4 5 6]\n"
     ]
    }
   ],
   "source": [
    "# Vector Concatenation\n",
    "concat_vectors = tf.concat([vec1, vec2], axis=0)\n",
    "print(f\"Vector concatenation: {vec1} + {vec2} = {concat_vectors}\")"
   ]
  },
  {
   "cell_type": "code",
   "execution_count": 31,
   "id": "920b2774-babc-451a-be31-9fa7b39feaab",
   "metadata": {},
   "outputs": [
    {
     "name": "stdout",
     "output_type": "stream",
     "text": [
      "Matrix concatenation (rows):\n",
      "[[1 2]\n",
      " [3 4]\n",
      " [5 6]\n",
      " [7 8]]\n"
     ]
    }
   ],
   "source": [
    "# Matrix concatenation along axis 0 (rows)\n",
    "mat_a = tf.constant([[1, 2], [3, 4]])\n",
    "mat_b = tf.constant([[5, 6], [7, 8]])\n",
    "concat_rows = tf.concat([mat_a, mat_b], axis=0)\n",
    "print(f\"Matrix concatenation (rows):\\n{concat_rows}\")"
   ]
  },
  {
   "cell_type": "code",
   "execution_count": 32,
   "id": "5c2f10dd-1333-4a98-901b-440fb8e3ceeb",
   "metadata": {},
   "outputs": [
    {
     "name": "stdout",
     "output_type": "stream",
     "text": [
      "Matrix concatenation (columns):\n",
      "[[1 2 5 6]\n",
      " [3 4 7 8]]\n"
     ]
    }
   ],
   "source": [
    "# Matrix concatenation along axis 1 (columns)\n",
    "concat_cols = tf.concat([mat_a, mat_b], axis=1)\n",
    "print(f\"Matrix concatenation (columns):\\n{concat_cols}\")"
   ]
  },
  {
   "cell_type": "code",
   "execution_count": 33,
   "id": "1b5a2ec4-ed27-4fcc-94fc-d8b168e18946",
   "metadata": {},
   "outputs": [
    {
     "name": "stdout",
     "output_type": "stream",
     "text": [
      "3D tensor concatenation shape: (4, 2, 2)\n"
     ]
    }
   ],
   "source": [
    "# 3D tensor concatenation\n",
    "tensor_3d_1 = tf.constant([[[1, 2], [3, 4]], [[5, 6], [7, 8]]])\n",
    "tensor_3d_2 = tf.constant([[[9, 10], [11, 12]], [[13, 14], [15, 16]]])\n",
    "concat_3d = tf.concat([tensor_3d_1, tensor_3d_2], axis=0)\n",
    "print(f\"3D tensor concatenation shape: {concat_3d.shape}\")"
   ]
  },
  {
   "cell_type": "code",
   "execution_count": 34,
   "id": "52d88fe1-73b8-4129-baa6-b03dfc26baaf",
   "metadata": {},
   "outputs": [
    {
     "name": "stdout",
     "output_type": "stream",
     "text": [
      "Mean of [1. 2. 3. 4. 5.]: 3.0\n"
     ]
    }
   ],
   "source": [
    "# Vector mean\n",
    "numbers = tf.constant([1.0, 2.0, 3.0, 4.0, 5.0])\n",
    "mean_all = tf.reduce_mean(numbers)\n",
    "print(f\"Mean of {numbers}: {mean_all}\")"
   ]
  },
  {
   "cell_type": "code",
   "execution_count": 35,
   "id": "3841e6dc-8aee-4af0-baee-2c627a43c8d8",
   "metadata": {},
   "outputs": [
    {
     "name": "stdout",
     "output_type": "stream",
     "text": [
      "Mean of entire matrix: 3.5\n"
     ]
    }
   ],
   "source": [
    "# Matrix mean\n",
    "matrix = tf.constant([[1.0, 2.0, 3.0], [4.0, 5.0, 6.0]])\n",
    "mean_all_matrix = tf.reduce_mean(matrix)\n",
    "print(f\"Mean of entire matrix: {mean_all_matrix}\")"
   ]
  },
  {
   "cell_type": "code",
   "execution_count": 36,
   "id": "8adf2ac2-55b7-444f-bb09-bc43d8dc593c",
   "metadata": {},
   "outputs": [
    {
     "name": "stdout",
     "output_type": "stream",
     "text": [
      "Mean along axis 0 (columns): [2.5 3.5 4.5]\n"
     ]
    }
   ],
   "source": [
    "# Mean along axis 0 (columns)\n",
    "mean_axis0 = tf.reduce_mean(matrix, axis=0)\n",
    "print(f\"Mean along axis 0 (columns): {mean_axis0}\")"
   ]
  },
  {
   "cell_type": "code",
   "execution_count": 37,
   "id": "46821c52-880d-47df-80e4-1d62ecc19520",
   "metadata": {},
   "outputs": [
    {
     "name": "stdout",
     "output_type": "stream",
     "text": [
      "Mean along axis 1 (rows): [2. 5.]\n"
     ]
    }
   ],
   "source": [
    "# Mean along axis 1 (rows)\n",
    "mean_axis1 = tf.reduce_mean(matrix, axis=1)\n",
    "print(f\"Mean along axis 1 (rows): {mean_axis1}\")"
   ]
  },
  {
   "cell_type": "code",
   "execution_count": 38,
   "id": "e64c401f-6519-40ed-b00f-c919d57dbccb",
   "metadata": {},
   "outputs": [
    {
     "name": "stdout",
     "output_type": "stream",
     "text": [
      "3D tensor mean (all): 4.5\n",
      "3D tensor mean (axis 0): [[3. 4.]\n",
      " [5. 6.]]\n"
     ]
    }
   ],
   "source": [
    "# 3D tensor mean\n",
    "tensor_3d = tf.constant([[[1.0, 2.0], [3.0, 4.0]], [[5.0, 6.0], [7.0, 8.0]]])\n",
    "mean_3d_all = tf.reduce_mean(tensor_3d)\n",
    "mean_3d_axis0 = tf.reduce_mean(tensor_3d, axis=0)\n",
    "print(f\"3D tensor mean (all): {mean_3d_all}\")\n",
    "print(f\"3D tensor mean (axis 0): {mean_3d_axis0}\")"
   ]
  },
  {
   "cell_type": "code",
   "execution_count": 39,
   "id": "5ffd7a12-60b6-4e4e-aca1-33d093491455",
   "metadata": {},
   "outputs": [
    {
     "name": "stdout",
     "output_type": "stream",
     "text": [
      "Sum of [1. 2. 3. 4. 5.]: 15.0\n"
     ]
    }
   ],
   "source": [
    "# Vector sum\n",
    "sum_all = tf.reduce_sum(numbers)\n",
    "print(f\"Sum of {numbers}: {sum_all}\")"
   ]
  },
  {
   "cell_type": "code",
   "execution_count": 40,
   "id": "abeb1878-a3fa-4bfd-83a7-df78c386f40f",
   "metadata": {},
   "outputs": [
    {
     "name": "stdout",
     "output_type": "stream",
     "text": [
      "Sum of entire matrix: 21.0\n"
     ]
    }
   ],
   "source": [
    "# Matrix sum\n",
    "sum_all_matrix = tf.reduce_sum(matrix)\n",
    "print(f\"Sum of entire matrix: {sum_all_matrix}\")"
   ]
  },
  {
   "cell_type": "code",
   "execution_count": 41,
   "id": "15edf35c-5b98-42ce-8786-903abaa103f8",
   "metadata": {},
   "outputs": [
    {
     "name": "stdout",
     "output_type": "stream",
     "text": [
      "Sum along axis 0 (columns): [5. 7. 9.]\n"
     ]
    }
   ],
   "source": [
    "# Sum along axis 0 (columns)\n",
    "sum_axis0 = tf.reduce_sum(matrix, axis=0)\n",
    "print(f\"Sum along axis 0 (columns): {sum_axis0}\")"
   ]
  },
  {
   "cell_type": "code",
   "execution_count": 42,
   "id": "60d6f379-24a0-49eb-9ea7-c39774a309b9",
   "metadata": {},
   "outputs": [
    {
     "name": "stdout",
     "output_type": "stream",
     "text": [
      "Sum along axis 1 (rows): [ 6. 15.]\n"
     ]
    }
   ],
   "source": [
    "# Sum along axis 1 (rows)\n",
    "sum_axis1 = tf.reduce_sum(matrix, axis=1)\n",
    "print(f\"Sum along axis 1 (rows): {sum_axis1}\")"
   ]
  },
  {
   "cell_type": "code",
   "execution_count": 43,
   "id": "2ea55d1f-1099-49c2-8acb-a19b34566660",
   "metadata": {},
   "outputs": [
    {
     "name": "stdout",
     "output_type": "stream",
     "text": [
      "Sum with keepdims: [[ 6.]\n",
      " [15.]]\n"
     ]
    }
   ],
   "source": [
    "# Keep dimensions\n",
    "sum_keepdims = tf.reduce_sum(matrix, axis=1, keepdims=True)\n",
    "print(f\"Sum with keepdims: {sum_keepdims}\")"
   ]
  },
  {
   "cell_type": "code",
   "execution_count": null,
   "id": "6a96c1c2-d91b-4925-a6d8-a43a8f7a8196",
   "metadata": {},
   "outputs": [],
   "source": []
  }
 ],
 "metadata": {
  "kernelspec": {
   "display_name": "Python 3 (ipykernel)",
   "language": "python",
   "name": "python3"
  },
  "language_info": {
   "codemirror_mode": {
    "name": "ipython",
    "version": 3
   },
   "file_extension": ".py",
   "mimetype": "text/x-python",
   "name": "python",
   "nbconvert_exporter": "python",
   "pygments_lexer": "ipython3",
   "version": "3.12.3"
  }
 },
 "nbformat": 4,
 "nbformat_minor": 5
}
