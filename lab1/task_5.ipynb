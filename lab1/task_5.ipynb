{
 "cells": [
  {
   "cell_type": "markdown",
   "id": "6aec4a16-d2e0-47aa-9f76-3f48d6b8c677",
   "metadata": {},
   "source": [
    "### Task 5: Compute Gradient of sigmoid function using Tensor flow"
   ]
  },
  {
   "cell_type": "markdown",
   "id": "b7589c17-925f-41c3-ac46-e0b2d94bfa89",
   "metadata": {},
   "source": [
    "<table style=\"border: 1px solid black; border-collapse: collapse;\" cellpadding=\"5\">\n",
    "  <tr>\n",
    "    <td style=\"border: 1px solid black;\"><strong>Roll No:</strong> A018</td>\n",
    "    <td style=\"border: 1px solid black;\"><strong>Name:</strong> Dhruv Thanawala</td>\n",
    "  </tr>\n",
    "  <tr>\n",
    "    <td style=\"border: 1px solid black;\"><strong>Class:</strong> BTech IT</td>\n",
    "    <td style=\"border: 1px solid black;\"><strong>Batch:</strong> A1</td>\n",
    "  </tr>\n",
    "  <tr>\n",
    "    <td style=\"border: 1px solid black;\"><strong>Date of Experiment:</strong> 15<sup>th</sup> July, 2025</td>\n",
    "    <td style=\"border: 1px solid black;\"><strong>Date of Submission:</strong> 15<sup>th</sup> July, 2025</td>\n",
    "  </tr>\n",
    "</table>\n"
   ]
  },
  {
   "cell_type": "code",
   "execution_count": 2,
   "id": "2f0ac98a-8f8e-45a6-9d67-3c96dc7268d9",
   "metadata": {},
   "outputs": [],
   "source": [
    "import tensorflow as tf\n",
    "import numpy as np"
   ]
  },
  {
   "cell_type": "code",
   "execution_count": 3,
   "id": "84699ee7-b172-4925-90d5-8f91ed643ad4",
   "metadata": {},
   "outputs": [
    {
     "name": "stdout",
     "output_type": "stream",
     "text": [
      "Computing Gradient of Sigmoid Function\n",
      "σ(x) = 1 / (1 + e^(-x))\n",
      "σ'(x) = σ(x) * (1 - σ(x))\n",
      "=============================================\n"
     ]
    }
   ],
   "source": [
    "print(\"Computing Gradient of Sigmoid Function\")\n",
    "print(\"σ(x) = 1 / (1 + e^(-x))\")\n",
    "print(\"σ'(x) = σ(x) * (1 - σ(x))\")\n",
    "print(\"=\" * 45)"
   ]
  },
  {
   "cell_type": "code",
   "execution_count": 6,
   "id": "ed84cbf0-09ac-4bd5-8f41-44a9c23e4bb5",
   "metadata": {},
   "outputs": [
    {
     "name": "stdout",
     "output_type": "stream",
     "text": [
      "1. SIGMOID GRADIENT\n",
      "------------------------------\n",
      "x = 2.0\n",
      "σ(x) = 0.880797\n",
      "σ'(x) = 0.104994\n"
     ]
    }
   ],
   "source": [
    "# 1. BASIC SIGMOID GRADIENT\n",
    "print(\"1. SIGMOID GRADIENT\")\n",
    "print(\"-\" * 30)\n",
    "\n",
    "# Test point\n",
    "x_value = 2.0\n",
    "x = tf.Variable(x_value, dtype=tf.float32)\n",
    "\n",
    "# Compute sigmoid and its gradient\n",
    "with tf.GradientTape() as tape:\n",
    "    y = tf.nn.sigmoid(x)\n",
    "\n",
    "gradient = tape.gradient(y, x)\n",
    "\n",
    "print(f\"x = {x_value}\")\n",
    "print(f\"σ(x) = {y.numpy():.6f}\")\n",
    "print(f\"σ'(x) = {gradient.numpy():.6f}\")"
   ]
  },
  {
   "cell_type": "code",
   "execution_count": 7,
   "id": "1b74b96c-2b94-487a-af46-fe39244fd0f3",
   "metadata": {},
   "outputs": [
    {
     "name": "stdout",
     "output_type": "stream",
     "text": [
      "\n",
      "2. GRADIENT AT MULTIPLE POINTS\n",
      "-----------------------------------\n",
      "x\tσ(x)\tσ'(x)\tManual σ'(x)\n",
      "----------------------------------------\n",
      "-3.0\t0.0474\t0.0452\t0.0452\n",
      "-1.0\t0.2689\t0.1966\t0.1966\n",
      "0.0\t0.5000\t0.2500\t0.2500\n",
      "1.0\t0.7311\t0.1966\t0.1966\n",
      "3.0\t0.9526\t0.0452\t0.0452\n"
     ]
    }
   ],
   "source": [
    "# 2. MULTIPLE POINTS\n",
    "print(\"\\n2. GRADIENT AT MULTIPLE POINTS\")\n",
    "print(\"-\" * 35)\n",
    "\n",
    "test_points = [-3.0, -1.0, 0.0, 1.0, 3.0]\n",
    "\n",
    "print(\"x\\tσ(x)\\tσ'(x)\\tManual σ'(x)\")\n",
    "print(\"-\" * 40)\n",
    "\n",
    "for x_val in test_points:\n",
    "    x = tf.Variable(x_val, dtype=tf.float32)\n",
    "    \n",
    "    with tf.GradientTape() as tape:\n",
    "        sigmoid_val = tf.nn.sigmoid(x)\n",
    "    \n",
    "    grad = tape.gradient(sigmoid_val, x)\n",
    "    manual_grad = sigmoid_val * (1 - sigmoid_val)\n",
    "    \n",
    "    print(f\"{x_val}\\t{sigmoid_val.numpy():.4f}\\t{grad.numpy():.4f}\\t{manual_grad.numpy():.4f}\")\n"
   ]
  },
  {
   "cell_type": "code",
   "execution_count": null,
   "id": "932497ce-e5d7-41a3-a7e4-eeb0cd7eeadd",
   "metadata": {},
   "outputs": [],
   "source": []
  }
 ],
 "metadata": {
  "kernelspec": {
   "display_name": "Python 3 (ipykernel)",
   "language": "python",
   "name": "python3"
  },
  "language_info": {
   "codemirror_mode": {
    "name": "ipython",
    "version": 3
   },
   "file_extension": ".py",
   "mimetype": "text/x-python",
   "name": "python",
   "nbconvert_exporter": "python",
   "pygments_lexer": "ipython3",
   "version": "3.12.3"
  }
 },
 "nbformat": 4,
 "nbformat_minor": 5
}
