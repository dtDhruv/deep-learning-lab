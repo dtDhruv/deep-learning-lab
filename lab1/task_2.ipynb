{
 "cells": [
  {
   "cell_type": "markdown",
   "id": "ae6d5e5c-3526-45d5-a1fc-8867ceb4c335",
   "metadata": {},
   "source": [
    "### Task 2: Perform linear algebra operations using Tensorflow (transpose, matrix multiplication, elementwise multiplication, determinant)"
   ]
  },
  {
   "cell_type": "markdown",
   "id": "f33490d0-9644-4ea0-b1e6-d20b542246a7",
   "metadata": {},
   "source": [
    "<table style=\"border: 1px solid black; border-collapse: collapse;\" cellpadding=\"5\">\n",
    "  <tr>\n",
    "    <td style=\"border: 1px solid black;\"><strong>Roll No:</strong> A018</td>\n",
    "    <td style=\"border: 1px solid black;\"><strong>Name:</strong> Dhruv Thanawala</td>\n",
    "  </tr>\n",
    "  <tr>\n",
    "    <td style=\"border: 1px solid black;\"><strong>Class:</strong> BTech IT</td>\n",
    "    <td style=\"border: 1px solid black;\"><strong>Batch:</strong> A1</td>\n",
    "  </tr>\n",
    "  <tr>\n",
    "    <td style=\"border: 1px solid black;\"><strong>Date of Experiment:</strong> 15<sup>th</sup> July, 2025</td>\n",
    "    <td style=\"border: 1px solid black;\"><strong>Date of Submission:</strong> 15<sup>th</sup> July, 2025</td>\n",
    "  </tr>\n",
    "</table>\n"
   ]
  },
  {
   "cell_type": "code",
   "execution_count": 2,
   "id": "c587c018-009b-43c8-8063-44f66e774130",
   "metadata": {},
   "outputs": [],
   "source": [
    "import tensorflow as tf"
   ]
  },
  {
   "cell_type": "code",
   "execution_count": 4,
   "id": "60800176-5016-444e-be4c-f5c9ae0f268b",
   "metadata": {},
   "outputs": [],
   "source": [
    "A = tf.constant([[1, 2, 3], \n",
    "                 [4, 5, 6]], dtype=tf.float32)\n",
    "\n",
    "B = tf.constant([[1, 2], \n",
    "                 [3, 4], \n",
    "                 [5, 6]], dtype=tf.float32)\n",
    "\n",
    "C = tf.constant([[2, 0], \n",
    "                 [1, 3]], dtype=tf.float32)"
   ]
  },
  {
   "cell_type": "code",
   "execution_count": 5,
   "id": "504a0a80-d3b0-4264-ab47-0c187a79f827",
   "metadata": {},
   "outputs": [
    {
     "name": "stdout",
     "output_type": "stream",
     "text": [
      "Matrix A:\n",
      "tf.Tensor(\n",
      "[[1. 2. 3.]\n",
      " [4. 5. 6.]], shape=(2, 3), dtype=float32)\n",
      "Shape: (2, 3)\n",
      "\n",
      "Matrix B:\n",
      "tf.Tensor(\n",
      "[[1. 2.]\n",
      " [3. 4.]\n",
      " [5. 6.]], shape=(3, 2), dtype=float32)\n",
      "Shape: (3, 2)\n",
      "\n",
      "Matrix C:\n",
      "tf.Tensor(\n",
      "[[2. 0.]\n",
      " [1. 3.]], shape=(2, 2), dtype=float32)\n",
      "Shape: (2, 2)\n"
     ]
    }
   ],
   "source": [
    "print(\"Matrix A:\")\n",
    "print(A)\n",
    "print(\"Shape:\", A.shape)\n",
    "\n",
    "print(\"\\nMatrix B:\")\n",
    "print(B)\n",
    "print(\"Shape:\", B.shape)\n",
    "\n",
    "print(\"\\nMatrix C:\")\n",
    "print(C)\n",
    "print(\"Shape:\", C.shape)"
   ]
  },
  {
   "cell_type": "code",
   "execution_count": 6,
   "id": "3193ce61-e656-4ded-9b05-78f56769d9cc",
   "metadata": {},
   "outputs": [
    {
     "name": "stdout",
     "output_type": "stream",
     "text": [
      "A transpose:\n",
      "tf.Tensor(\n",
      "[[1. 4.]\n",
      " [2. 5.]\n",
      " [3. 6.]], shape=(3, 2), dtype=float32)\n",
      "Shape: (3, 2)\n"
     ]
    }
   ],
   "source": [
    "# 1. TRANSPOSE\n",
    "A_transpose = tf.transpose(A)\n",
    "B_transpose = tf.transpose(B)\n",
    "\n",
    "print(\"A transpose:\")\n",
    "print(A_transpose)\n",
    "print(\"Shape:\", A_transpose.shape)"
   ]
  },
  {
   "cell_type": "code",
   "execution_count": 7,
   "id": "e0572c59-ddfa-4436-9f9d-74aa04a76f72",
   "metadata": {},
   "outputs": [
    {
     "name": "stdout",
     "output_type": "stream",
     "text": [
      "A @ B:\n",
      "tf.Tensor(\n",
      "[[22. 28.]\n",
      " [49. 64.]], shape=(2, 2), dtype=float32)\n",
      "Shape: (2, 2)\n"
     ]
    }
   ],
   "source": [
    "# 2. MATRIX MULTIPLICATION\n",
    "AB = tf.matmul(A, B)\n",
    "print(\"A @ B:\")\n",
    "print(AB)\n",
    "print(\"Shape:\", AB.shape)"
   ]
  },
  {
   "cell_type": "code",
   "execution_count": 8,
   "id": "cd9e7ab1-f750-4513-a442-e2fb7cd42796",
   "metadata": {},
   "outputs": [
    {
     "name": "stdout",
     "output_type": "stream",
     "text": [
      "\n",
      "D * E (element-wise):\n",
      "tf.Tensor(\n",
      "[[ 5. 12.]\n",
      " [21. 32.]], shape=(2, 2), dtype=float32)\n"
     ]
    }
   ],
   "source": [
    "# 3. ELEMENT-WISE MULTIPLICATION\n",
    "\n",
    "# Create matrices of same shape for element-wise multiplication\n",
    "D = tf.constant([[1, 2], \n",
    "                 [3, 4]], dtype=tf.float32)\n",
    "\n",
    "E = tf.constant([[5, 6], \n",
    "                 [7, 8]], dtype=tf.float32)\n",
    "\n",
    "DE_elementwise = tf.multiply(D, E)\n",
    "print(\"\\nD * E (element-wise):\")\n",
    "print(DE_elementwise)"
   ]
  },
  {
   "cell_type": "code",
   "execution_count": 10,
   "id": "80ccd2ae-4d04-4b80-9b82-d5b39b3101d6",
   "metadata": {},
   "outputs": [
    {
     "name": "stdout",
     "output_type": "stream",
     "text": [
      "Determinant of C:\n",
      "6.0\n",
      "\n",
      "Determinant of D:\n",
      "-2.0\n"
     ]
    }
   ],
   "source": [
    "# 4. DETERMINANT\n",
    "# Determinant works only on square matrices\n",
    "det_C = tf.linalg.det(C)\n",
    "print(\"Determinant of C:\")\n",
    "print(det_C.numpy())\n",
    "\n",
    "det_D = tf.linalg.det(D)\n",
    "print(\"\\nDeterminant of D:\")\n",
    "print(det_D.numpy())"
   ]
  },
  {
   "cell_type": "code",
   "execution_count": 12,
   "id": "45a16032-4251-45b9-bee7-a1731b0c8b96",
   "metadata": {},
   "outputs": [
    {
     "name": "stdout",
     "output_type": "stream",
     "text": [
      "\n",
      "Matrix F:\n",
      "[[ 1.  2.  3.]\n",
      " [ 4.  5.  6.]\n",
      " [ 7.  8. 10.]]\n",
      "Determinant of F:\n",
      "-2.9999986\n"
     ]
    }
   ],
   "source": [
    "F = tf.constant([[1, 2, 3], \n",
    "                 [4, 5, 6], \n",
    "                 [7, 8, 10]], dtype=tf.float32)\n",
    "\n",
    "print(\"\\nMatrix F:\")\n",
    "print(F.numpy())\n",
    "\n",
    "det_F = tf.linalg.det(F)\n",
    "print(\"Determinant of F:\")\n",
    "print(det_F.numpy())\n"
   ]
  },
  {
   "cell_type": "code",
   "execution_count": null,
   "id": "6d82ca1f-8bc7-46c0-ac90-578da4889182",
   "metadata": {},
   "outputs": [],
   "source": []
  }
 ],
 "metadata": {
  "kernelspec": {
   "display_name": "Python 3 (ipykernel)",
   "language": "python",
   "name": "python3"
  },
  "language_info": {
   "codemirror_mode": {
    "name": "ipython",
    "version": 3
   },
   "file_extension": ".py",
   "mimetype": "text/x-python",
   "name": "python",
   "nbconvert_exporter": "python",
   "pygments_lexer": "ipython3",
   "version": "3.12.3"
  }
 },
 "nbformat": 4,
 "nbformat_minor": 5
}
