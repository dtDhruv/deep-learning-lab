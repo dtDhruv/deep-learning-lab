{
 "cells": [
  {
   "cell_type": "markdown",
   "id": "310cd4d1-b1cd-42a4-8e27-1d5834e38d78",
   "metadata": {},
   "source": [
    "<table style=\"border: 1px solid black; border-collapse: collapse;\" cellpadding=\"5\">\n",
    "  <tr>\n",
    "    <td style=\"border: 1px solid black;\"><strong>Roll No:</strong> A018</td>\n",
    "    <td style=\"border: 1px solid black;\"><strong>Name:</strong> Dhruv Thanawala</td>\n",
    "  </tr>\n",
    "  <tr>\n",
    "    <td style=\"border: 1px solid black;\"><strong>Class:</strong> BTech IT</td>\n",
    "    <td style=\"border: 1px solid black;\"><strong>Batch:</strong> A1</td>\n",
    "  </tr>\n",
    "  <tr>\n",
    "    <td style=\"border: 1px solid black;\"><strong>Date of Experiment:</strong> 29<sup>th</sup> July, 2025</td>\n",
    "    <td style=\"border: 1px solid black;\"><strong>Date of Submission:</strong> 29<sup>th</sup> July, 2025</td>\n",
    "  </tr>\n",
    "</table>\n"
   ]
  },
  {
   "cell_type": "code",
   "execution_count": 3,
   "id": "d3b48e66-ec71-4381-ad4d-12c21b9c94bd",
   "metadata": {},
   "outputs": [],
   "source": [
    "import numpy as np"
   ]
  },
  {
   "cell_type": "code",
   "execution_count": 14,
   "id": "a1bfcaa2-5d43-4654-93a8-4565419e8d13",
   "metadata": {},
   "outputs": [],
   "source": [
    "class ThreeLayerNN:\n",
    "    def __init__(self, input_size, hidden_size_1, hidden_size_2, output_size):\n",
    "        # Initialize weights and biases for all layers\n",
    "        self.W1 = np.random.randn(input_size, hidden_size_1) * 0.5\n",
    "        self.b1 = np.random.randn(hidden_size_1) * 0.5\n",
    "        \n",
    "        self.W2 = np.random.randn(hidden_size_1, hidden_size_2) * 0.5\n",
    "        self.b2 = np.random.randn(hidden_size_2) * 0.5\n",
    "        \n",
    "        self.W3 = np.random.randn(hidden_size_2, output_size) * 0.5\n",
    "        self.b3 = np.random.randn(output_size) * 0.5\n",
    "        \n",
    "        self.input_size = input_size\n",
    "        self.hidden_size_1 = hidden_size_1\n",
    "        self.hidden_size_2 = hidden_size_2\n",
    "        self.output_size = output_size\n",
    "    \n",
    "    def sigmoid(self, x):\n",
    "        x = np.clip(x, -500, 500)\n",
    "        return 1 / (1 + np.exp(-x))\n",
    "    \n",
    "    def forward(self, X):\n",
    "        # Forward propagation through all layers\n",
    "        # Layer 1: Input to first hidden layer\n",
    "        self.z1 = np.dot(X, self.W1) + self.b1\n",
    "        self.a1 = self.sigmoid(self.z1)\n",
    "        \n",
    "        # Layer 2: First hidden to second hidden layer\n",
    "        self.z2 = np.dot(self.a1, self.W2) + self.b2\n",
    "        self.a2 = self.sigmoid(self.z2)\n",
    "        \n",
    "        # Layer 3: Second hidden to output layer\n",
    "        self.z3 = np.dot(self.a2, self.W3) + self.b3\n",
    "        self.output = self.sigmoid(self.z3)\n",
    "        \n",
    "        return self.output\n",
    "    \n",
    "    def compute_total_squared_error(self, X, y):\n",
    "        # Compute predictions\n",
    "        predictions = self.forward(X)\n",
    "        \n",
    "        # Calculate total squared error\n",
    "        error = np.sum((y - predictions) ** 2)\n",
    "        return error\n",
    "    \n",
    "    def reset_weights_biases(self, seed=None):\n",
    "        # Reset weights and biases with new random values\n",
    "        if seed is not None:\n",
    "            np.random.seed(seed)\n",
    "            \n",
    "        self.W1 = np.random.randn(self.input_size, self.hidden_size_1) * 0.5\n",
    "        self.b1 = np.random.randn(self.hidden_size_1) * 0.5\n",
    "        \n",
    "        self.W2 = np.random.randn(self.hidden_size_1, self.hidden_size_2) * 0.5\n",
    "        self.b2 = np.random.randn(self.hidden_size_2) * 0.5\n",
    "        \n",
    "        self.W3 = np.random.randn(self.hidden_size_2, self.output_size) * 0.5\n",
    "        self.b3 = np.random.randn(self.output_size) * 0.5\n",
    "    \n",
    "    def add_hidden_neuron(self):\n",
    "        # Add one more neuron to the middle (second) hidden layer\n",
    "        old_hidden_size_2 = self.hidden_size_2\n",
    "        self.hidden_size_2 += 1\n",
    "        \n",
    "        # Expand W2 (from first hidden to second hidden)\n",
    "        new_W2 = np.random.randn(self.hidden_size_1, self.hidden_size_2) * 0.5\n",
    "        new_W2[:, :old_hidden_size_2] = self.W2  # Copy old weights\n",
    "        self.W2 = new_W2\n",
    "        \n",
    "        # Expand b2\n",
    "        new_b2 = np.random.randn(self.hidden_size_2) * 0.5\n",
    "        new_b2[:old_hidden_size_2] = self.b2  # Copy old biases\n",
    "        self.b2 = new_b2\n",
    "        \n",
    "        # Expand W3 (from second hidden to output)\n",
    "        new_W3 = np.random.randn(self.hidden_size_2, self.output_size) * 0.5\n",
    "        new_W3[:old_hidden_size_2, :] = self.W3  # Copy old weights\n",
    "        self.W3 = new_W3"
   ]
  },
  {
   "cell_type": "code",
   "execution_count": 34,
   "id": "710f8ddc-2d3e-48eb-9f09-fb14743148eb",
   "metadata": {},
   "outputs": [
    {
     "name": "stdout",
     "output_type": "stream",
     "text": [
      "TASK 1: Building Three-Layer Neural Network\n",
      "Network: 4 -> 6 -> 4 -> 2\n",
      "Network initialized with random weights and biases.\n"
     ]
    }
   ],
   "source": [
    "# Task 1: Building a three-layer feed forward neural network\n",
    "print(\"TASK 1: Building Three-Layer Neural Network\")\n",
    "\n",
    "# Create sample data\n",
    "np.random.seed(42)\n",
    "X = np.random.randn(1, 4)  # 1 samples, 4 features\n",
    "y = np.random.randn(1, 2)  # 1 samples, 2 outputs\n",
    "\n",
    "# Initialize the network\n",
    "nn = ThreeLayerNN(input_size=4, hidden_size_1=6, hidden_size_2=4, output_size=2)\n",
    "print(f\"Network: {nn.input_size} -> {nn.hidden_size_1} -> {nn.hidden_size_2} -> {nn.output_size}\")\n",
    "print(\"Network initialized with random weights and biases.\")"
   ]
  },
  {
   "cell_type": "code",
   "execution_count": 35,
   "id": "1ede96d7-ef66-4ef5-b694-75ffe68a1c3a",
   "metadata": {},
   "outputs": [
    {
     "name": "stdout",
     "output_type": "stream",
     "text": [
      "\n",
      "TASK 2: Computing Total Squared Error\n",
      "Initial Total Squared Error: 1.7302\n"
     ]
    }
   ],
   "source": [
    "# Task 2: Compute the total squared error\n",
    "print(\"\\nTASK 2: Computing Total Squared Error\")\n",
    "initial_error = nn.compute_total_squared_error(X, y)\n",
    "print(f\"Initial Total Squared Error: {initial_error:.4f}\")"
   ]
  },
  {
   "cell_type": "code",
   "execution_count": 36,
   "id": "4acb8fff-f10a-4c90-97e4-1ebc5feeb7b2",
   "metadata": {},
   "outputs": [
    {
     "name": "stdout",
     "output_type": "stream",
     "text": [
      "\n",
      "TASK 3: Changing Weights and Biases\n",
      "Resetting weights and biases with new random values...\n",
      "New Total Squared Error: 1.3979\n",
      "Error difference: -0.3323\n"
     ]
    }
   ],
   "source": [
    "# Task 3: Change initial weights and biases and compute error again\n",
    "print(\"\\nTASK 3: Changing Weights and Biases\")\n",
    "print(\"Resetting weights and biases with new random values...\")\n",
    "nn.reset_weights_biases(seed=123)  # Different seed for different values\n",
    "new_error = nn.compute_total_squared_error(X, y)\n",
    "print(f\"New Total Squared Error: {new_error:.4f}\")\n",
    "print(f\"Error difference: {new_error - initial_error:.4f}\")"
   ]
  },
  {
   "cell_type": "code",
   "execution_count": 37,
   "id": "d9d9c40e-137d-4888-ab04-7ed801485aac",
   "metadata": {},
   "outputs": [
    {
     "name": "stdout",
     "output_type": "stream",
     "text": [
      "\n",
      "TASK 4: Adding Hidden Neuron\n",
      "Original middle layer size: 4\n",
      "New middle layer size: 5\n",
      "Error with expanded network: 1.4626\n",
      "Error difference from previous: 0.0647\n"
     ]
    }
   ],
   "source": [
    "# Task 4: Add one more hidden neuron and compare error\n",
    "print(\"\\nTASK 4: Adding Hidden Neuron\")\n",
    "print(f\"Original middle layer size: {nn.hidden_size_2}\")\n",
    "nn.add_hidden_neuron()\n",
    "print(f\"New middle layer size: {nn.hidden_size_2}\")\n",
    "expanded_error = nn.compute_total_squared_error(X, y)\n",
    "print(f\"Error with expanded network: {expanded_error:.4f}\")\n",
    "print(f\"Error difference from previous: {expanded_error - new_error:.4f}\")# Task 2: Compute the total squared error"
   ]
  },
  {
   "cell_type": "code",
   "execution_count": 38,
   "id": "36b9be9e-75c0-4d69-8d6b-9f074f9520fe",
   "metadata": {},
   "outputs": [
    {
     "name": "stdout",
     "output_type": "stream",
     "text": [
      "\n",
      "COMPARISON\n",
      "Initial error (original network): 1.7302\n",
      "Error after weight reset: 1.3979\n",
      "Error after adding neuron: 1.4626\n"
     ]
    }
   ],
   "source": [
    "# Comparison\n",
    "print(\"\\nCOMPARISON\")\n",
    "print(f\"Initial error (original network): {initial_error:.4f}\")\n",
    "print(f\"Error after weight reset: {new_error:.4f}\")\n",
    "print(f\"Error after adding neuron: {expanded_error:.4f}\")"
   ]
  },
  {
   "cell_type": "code",
   "execution_count": 39,
   "id": "28d4068a-ed8b-4d37-a999-8c1f4eaa7950",
   "metadata": {},
   "outputs": [
    {
     "name": "stdout",
     "output_type": "stream",
     "text": [
      "\n",
      "DEMONSTRATION: Forward Pass\n",
      "Sample input shape: (1, 4)\n",
      "Predictions shape: (1, 2)\n",
      "Sample predictions:\n",
      "[[0.75317923 0.46426273]]\n"
     ]
    }
   ],
   "source": [
    "# Demonstration of forward pass\n",
    "print(\"\\nDEMONSTRATION: Forward Pass\")\n",
    "sample_input = X[:3]  # Take first 3 samples\n",
    "predictions = nn.forward(sample_input)\n",
    "print(f\"Sample input shape: {sample_input.shape}\")\n",
    "print(f\"Predictions shape: {predictions.shape}\")\n",
    "print(f\"Sample predictions:\\n{predictions}\")"
   ]
  },
  {
   "cell_type": "code",
   "execution_count": null,
   "id": "d2d85648-4b95-4548-91b1-fdd0ac3590ff",
   "metadata": {},
   "outputs": [],
   "source": []
  }
 ],
 "metadata": {
  "kernelspec": {
   "display_name": "Python 3 (ipykernel)",
   "language": "python",
   "name": "python3"
  },
  "language_info": {
   "codemirror_mode": {
    "name": "ipython",
    "version": 3
   },
   "file_extension": ".py",
   "mimetype": "text/x-python",
   "name": "python",
   "nbconvert_exporter": "python",
   "pygments_lexer": "ipython3",
   "version": "3.12.3"
  }
 },
 "nbformat": 4,
 "nbformat_minor": 5
}
